{
 "cells": [
  {
   "cell_type": "markdown",
   "id": "7d1ebf57",
   "metadata": {},
   "source": [
    "# KNN in python"
   ]
  },
  {
   "cell_type": "code",
   "execution_count": 28,
   "id": "405c03c3",
   "metadata": {},
   "outputs": [],
   "source": [
    "import pandas as pd\n",
    "import seaborn as sns\n",
    "import numpy as np\n",
    "import matplotlib.pyplot as plt"
   ]
  },
  {
   "cell_type": "code",
   "execution_count": 30,
   "id": "a8c883a9",
   "metadata": {},
   "outputs": [],
   "source": [
    "df=pd.read_pickle(\"pickle1\")"
   ]
  },
  {
   "cell_type": "code",
   "execution_count": 53,
   "id": "bbbc5ced",
   "metadata": {},
   "outputs": [
    {
     "data": {
      "text/plain": [
       "(67639, 711)"
      ]
     },
     "execution_count": 53,
     "metadata": {},
     "output_type": "execute_result"
    }
   ],
   "source": [
    "df.shape"
   ]
  },
  {
   "cell_type": "code",
   "execution_count": 31,
   "id": "d26f9865",
   "metadata": {},
   "outputs": [
    {
     "data": {
      "text/html": [
       "<div>\n",
       "<style scoped>\n",
       "    .dataframe tbody tr th:only-of-type {\n",
       "        vertical-align: middle;\n",
       "    }\n",
       "\n",
       "    .dataframe tbody tr th {\n",
       "        vertical-align: top;\n",
       "    }\n",
       "\n",
       "    .dataframe thead th {\n",
       "        text-align: right;\n",
       "    }\n",
       "</style>\n",
       "<table border=\"1\" class=\"dataframe\">\n",
       "  <thead>\n",
       "    <tr style=\"text-align: right;\">\n",
       "      <th></th>\n",
       "      <th>id</th>\n",
       "      <th>gaze_0_x</th>\n",
       "      <th>gaze_0_y</th>\n",
       "      <th>gaze_0_z</th>\n",
       "      <th>gaze_1_x</th>\n",
       "      <th>gaze_1_y</th>\n",
       "      <th>gaze_1_z</th>\n",
       "      <th>gaze_angle_x</th>\n",
       "      <th>gaze_angle_y</th>\n",
       "      <th>eye_lmk_x_0</th>\n",
       "      <th>...</th>\n",
       "      <th>AU14_c</th>\n",
       "      <th>AU15_c</th>\n",
       "      <th>AU17_c</th>\n",
       "      <th>AU20_c</th>\n",
       "      <th>AU23_c</th>\n",
       "      <th>AU25_c</th>\n",
       "      <th>AU26_c</th>\n",
       "      <th>AU28_c</th>\n",
       "      <th>AU45_c</th>\n",
       "      <th>QoE</th>\n",
       "    </tr>\n",
       "  </thead>\n",
       "  <tbody>\n",
       "    <tr>\n",
       "      <th>0</th>\n",
       "      <td>1</td>\n",
       "      <td>0.082010</td>\n",
       "      <td>0.062940</td>\n",
       "      <td>-0.994642</td>\n",
       "      <td>-0.124776</td>\n",
       "      <td>0.080031</td>\n",
       "      <td>-0.988952</td>\n",
       "      <td>-0.022</td>\n",
       "      <td>0.072</td>\n",
       "      <td>160.5</td>\n",
       "      <td>...</td>\n",
       "      <td>0</td>\n",
       "      <td>0</td>\n",
       "      <td>0</td>\n",
       "      <td>0</td>\n",
       "      <td>0</td>\n",
       "      <td>0</td>\n",
       "      <td>0</td>\n",
       "      <td>0</td>\n",
       "      <td>0</td>\n",
       "      <td>2</td>\n",
       "    </tr>\n",
       "    <tr>\n",
       "      <th>1</th>\n",
       "      <td>1</td>\n",
       "      <td>0.078303</td>\n",
       "      <td>0.060465</td>\n",
       "      <td>-0.995094</td>\n",
       "      <td>-0.128854</td>\n",
       "      <td>0.077414</td>\n",
       "      <td>-0.988637</td>\n",
       "      <td>-0.025</td>\n",
       "      <td>0.069</td>\n",
       "      <td>161.0</td>\n",
       "      <td>...</td>\n",
       "      <td>0</td>\n",
       "      <td>0</td>\n",
       "      <td>0</td>\n",
       "      <td>0</td>\n",
       "      <td>0</td>\n",
       "      <td>0</td>\n",
       "      <td>0</td>\n",
       "      <td>0</td>\n",
       "      <td>0</td>\n",
       "      <td>2</td>\n",
       "    </tr>\n",
       "    <tr>\n",
       "      <th>2</th>\n",
       "      <td>1</td>\n",
       "      <td>0.080084</td>\n",
       "      <td>0.059067</td>\n",
       "      <td>-0.995036</td>\n",
       "      <td>-0.130403</td>\n",
       "      <td>0.076090</td>\n",
       "      <td>-0.988537</td>\n",
       "      <td>-0.025</td>\n",
       "      <td>0.068</td>\n",
       "      <td>161.1</td>\n",
       "      <td>...</td>\n",
       "      <td>0</td>\n",
       "      <td>0</td>\n",
       "      <td>0</td>\n",
       "      <td>0</td>\n",
       "      <td>0</td>\n",
       "      <td>0</td>\n",
       "      <td>0</td>\n",
       "      <td>0</td>\n",
       "      <td>0</td>\n",
       "      <td>2</td>\n",
       "    </tr>\n",
       "    <tr>\n",
       "      <th>3</th>\n",
       "      <td>1</td>\n",
       "      <td>0.081053</td>\n",
       "      <td>0.058107</td>\n",
       "      <td>-0.995014</td>\n",
       "      <td>-0.129042</td>\n",
       "      <td>0.074312</td>\n",
       "      <td>-0.988851</td>\n",
       "      <td>-0.024</td>\n",
       "      <td>0.067</td>\n",
       "      <td>161.1</td>\n",
       "      <td>...</td>\n",
       "      <td>0</td>\n",
       "      <td>0</td>\n",
       "      <td>0</td>\n",
       "      <td>0</td>\n",
       "      <td>0</td>\n",
       "      <td>0</td>\n",
       "      <td>0</td>\n",
       "      <td>0</td>\n",
       "      <td>0</td>\n",
       "      <td>2</td>\n",
       "    </tr>\n",
       "    <tr>\n",
       "      <th>4</th>\n",
       "      <td>1</td>\n",
       "      <td>0.082496</td>\n",
       "      <td>0.059614</td>\n",
       "      <td>-0.994807</td>\n",
       "      <td>-0.128192</td>\n",
       "      <td>0.076915</td>\n",
       "      <td>-0.988762</td>\n",
       "      <td>-0.023</td>\n",
       "      <td>0.069</td>\n",
       "      <td>160.9</td>\n",
       "      <td>...</td>\n",
       "      <td>0</td>\n",
       "      <td>0</td>\n",
       "      <td>0</td>\n",
       "      <td>0</td>\n",
       "      <td>0</td>\n",
       "      <td>0</td>\n",
       "      <td>0</td>\n",
       "      <td>0</td>\n",
       "      <td>0</td>\n",
       "      <td>2</td>\n",
       "    </tr>\n",
       "  </tbody>\n",
       "</table>\n",
       "<p>5 rows × 711 columns</p>\n",
       "</div>"
      ],
      "text/plain": [
       "    id    gaze_0_x   gaze_0_y   gaze_0_z   gaze_1_x   gaze_1_y   gaze_1_z  \\\n",
       "0     1   0.082010   0.062940  -0.994642  -0.124776   0.080031  -0.988952   \n",
       "1     1   0.078303   0.060465  -0.995094  -0.128854   0.077414  -0.988637   \n",
       "2     1   0.080084   0.059067  -0.995036  -0.130403   0.076090  -0.988537   \n",
       "3     1   0.081053   0.058107  -0.995014  -0.129042   0.074312  -0.988851   \n",
       "4     1   0.082496   0.059614  -0.994807  -0.128192   0.076915  -0.988762   \n",
       "\n",
       "    gaze_angle_x   gaze_angle_y   eye_lmk_x_0  ...   AU14_c   AU15_c   AU17_c  \\\n",
       "0         -0.022          0.072         160.5  ...        0        0        0   \n",
       "1         -0.025          0.069         161.0  ...        0        0        0   \n",
       "2         -0.025          0.068         161.1  ...        0        0        0   \n",
       "3         -0.024          0.067         161.1  ...        0        0        0   \n",
       "4         -0.023          0.069         160.9  ...        0        0        0   \n",
       "\n",
       "    AU20_c   AU23_c   AU25_c   AU26_c   AU28_c   AU45_c  QoE  \n",
       "0        0        0        0        0        0        0    2  \n",
       "1        0        0        0        0        0        0    2  \n",
       "2        0        0        0        0        0        0    2  \n",
       "3        0        0        0        0        0        0    2  \n",
       "4        0        0        0        0        0        0    2  \n",
       "\n",
       "[5 rows x 711 columns]"
      ]
     },
     "execution_count": 31,
     "metadata": {},
     "output_type": "execute_result"
    }
   ],
   "source": [
    "df.head()"
   ]
  },
  {
   "cell_type": "markdown",
   "id": "f46bf75e",
   "metadata": {},
   "source": [
    "## Standardize the variables\n",
    "Siccome il KNN classifica in base alla distanza dai punti di test, si fa un rescaling per rappresentare tutti i dati in modo simile.\n",
    "È buona pratica quindi normalizzare i dati in modo tale che possano essere valutati uniformemente."
   ]
  },
  {
   "cell_type": "code",
   "execution_count": 8,
   "id": "e2a9832b",
   "metadata": {},
   "outputs": [],
   "source": [
    "from sklearn.preprocessing import StandardScaler"
   ]
  },
  {
   "cell_type": "code",
   "execution_count": 9,
   "id": "1510d5eb",
   "metadata": {},
   "outputs": [],
   "source": [
    "scaler = StandardScaler()"
   ]
  },
  {
   "cell_type": "code",
   "execution_count": 10,
   "id": "7cf25b11",
   "metadata": {},
   "outputs": [
    {
     "data": {
      "text/plain": [
       "StandardScaler()"
      ]
     },
     "execution_count": 10,
     "metadata": {},
     "output_type": "execute_result"
    }
   ],
   "source": [
    "#calcola la media e la varianza che verrano usate nel transform successivo (non consideriamo la colonna target)\n",
    "\n",
    "scaler.fit(df.drop('QoE',axis=1))"
   ]
  },
  {
   "cell_type": "code",
   "execution_count": 11,
   "id": "d0ee8214",
   "metadata": {},
   "outputs": [],
   "source": [
    "scaled_features = scaler.transform(df.drop('QoE',axis=1))"
   ]
  },
  {
   "cell_type": "code",
   "execution_count": 12,
   "id": "9b3ad2de",
   "metadata": {},
   "outputs": [
    {
     "data": {
      "text/html": [
       "<div>\n",
       "<style scoped>\n",
       "    .dataframe tbody tr th:only-of-type {\n",
       "        vertical-align: middle;\n",
       "    }\n",
       "\n",
       "    .dataframe tbody tr th {\n",
       "        vertical-align: top;\n",
       "    }\n",
       "\n",
       "    .dataframe thead th {\n",
       "        text-align: right;\n",
       "    }\n",
       "</style>\n",
       "<table border=\"1\" class=\"dataframe\">\n",
       "  <thead>\n",
       "    <tr style=\"text-align: right;\">\n",
       "      <th></th>\n",
       "      <th>id</th>\n",
       "      <th>gaze_0_x</th>\n",
       "      <th>gaze_0_y</th>\n",
       "      <th>gaze_0_z</th>\n",
       "      <th>gaze_1_x</th>\n",
       "      <th>gaze_1_y</th>\n",
       "      <th>gaze_1_z</th>\n",
       "      <th>gaze_angle_x</th>\n",
       "      <th>gaze_angle_y</th>\n",
       "      <th>eye_lmk_x_0</th>\n",
       "      <th>...</th>\n",
       "      <th>AU12_c</th>\n",
       "      <th>AU14_c</th>\n",
       "      <th>AU15_c</th>\n",
       "      <th>AU17_c</th>\n",
       "      <th>AU20_c</th>\n",
       "      <th>AU23_c</th>\n",
       "      <th>AU25_c</th>\n",
       "      <th>AU26_c</th>\n",
       "      <th>AU28_c</th>\n",
       "      <th>AU45_c</th>\n",
       "    </tr>\n",
       "  </thead>\n",
       "  <tbody>\n",
       "    <tr>\n",
       "      <th>0</th>\n",
       "      <td>-1.603384</td>\n",
       "      <td>-1.271694</td>\n",
       "      <td>-0.889513</td>\n",
       "      <td>-1.405812</td>\n",
       "      <td>-1.378494</td>\n",
       "      <td>-0.779758</td>\n",
       "      <td>-0.586249</td>\n",
       "      <td>-1.318922</td>\n",
       "      <td>-0.849503</td>\n",
       "      <td>1.416222</td>\n",
       "      <td>...</td>\n",
       "      <td>-0.128219</td>\n",
       "      <td>-0.688898</td>\n",
       "      <td>-0.338595</td>\n",
       "      <td>-0.50349</td>\n",
       "      <td>-0.277895</td>\n",
       "      <td>-0.773873</td>\n",
       "      <td>-0.369774</td>\n",
       "      <td>-0.253659</td>\n",
       "      <td>-0.047614</td>\n",
       "      <td>-0.408551</td>\n",
       "    </tr>\n",
       "    <tr>\n",
       "      <th>1</th>\n",
       "      <td>-1.603384</td>\n",
       "      <td>-1.301956</td>\n",
       "      <td>-0.914407</td>\n",
       "      <td>-1.418809</td>\n",
       "      <td>-1.409756</td>\n",
       "      <td>-0.805934</td>\n",
       "      <td>-0.575568</td>\n",
       "      <td>-1.341865</td>\n",
       "      <td>-0.878817</td>\n",
       "      <td>1.435432</td>\n",
       "      <td>...</td>\n",
       "      <td>-0.128219</td>\n",
       "      <td>-0.688898</td>\n",
       "      <td>-0.338595</td>\n",
       "      <td>-0.50349</td>\n",
       "      <td>-0.277895</td>\n",
       "      <td>-0.773873</td>\n",
       "      <td>-0.369774</td>\n",
       "      <td>-0.253659</td>\n",
       "      <td>-0.047614</td>\n",
       "      <td>-0.408551</td>\n",
       "    </tr>\n",
       "    <tr>\n",
       "      <th>2</th>\n",
       "      <td>-1.603384</td>\n",
       "      <td>-1.287417</td>\n",
       "      <td>-0.928468</td>\n",
       "      <td>-1.417141</td>\n",
       "      <td>-1.421630</td>\n",
       "      <td>-0.819177</td>\n",
       "      <td>-0.572177</td>\n",
       "      <td>-1.341865</td>\n",
       "      <td>-0.888589</td>\n",
       "      <td>1.439274</td>\n",
       "      <td>...</td>\n",
       "      <td>-0.128219</td>\n",
       "      <td>-0.688898</td>\n",
       "      <td>-0.338595</td>\n",
       "      <td>-0.50349</td>\n",
       "      <td>-0.277895</td>\n",
       "      <td>-0.773873</td>\n",
       "      <td>-0.369774</td>\n",
       "      <td>-0.253659</td>\n",
       "      <td>-0.047614</td>\n",
       "      <td>-0.408551</td>\n",
       "    </tr>\n",
       "    <tr>\n",
       "      <th>3</th>\n",
       "      <td>-1.603384</td>\n",
       "      <td>-1.279507</td>\n",
       "      <td>-0.938124</td>\n",
       "      <td>-1.416508</td>\n",
       "      <td>-1.411197</td>\n",
       "      <td>-0.836961</td>\n",
       "      <td>-0.582824</td>\n",
       "      <td>-1.334217</td>\n",
       "      <td>-0.898360</td>\n",
       "      <td>1.439274</td>\n",
       "      <td>...</td>\n",
       "      <td>-0.128219</td>\n",
       "      <td>-0.688898</td>\n",
       "      <td>-0.338595</td>\n",
       "      <td>-0.50349</td>\n",
       "      <td>-0.277895</td>\n",
       "      <td>-0.773873</td>\n",
       "      <td>-0.369774</td>\n",
       "      <td>-0.253659</td>\n",
       "      <td>-0.047614</td>\n",
       "      <td>-0.408551</td>\n",
       "    </tr>\n",
       "    <tr>\n",
       "      <th>4</th>\n",
       "      <td>-1.603384</td>\n",
       "      <td>-1.267727</td>\n",
       "      <td>-0.922966</td>\n",
       "      <td>-1.410556</td>\n",
       "      <td>-1.404681</td>\n",
       "      <td>-0.810925</td>\n",
       "      <td>-0.579806</td>\n",
       "      <td>-1.326570</td>\n",
       "      <td>-0.878817</td>\n",
       "      <td>1.431590</td>\n",
       "      <td>...</td>\n",
       "      <td>-0.128219</td>\n",
       "      <td>-0.688898</td>\n",
       "      <td>-0.338595</td>\n",
       "      <td>-0.50349</td>\n",
       "      <td>-0.277895</td>\n",
       "      <td>-0.773873</td>\n",
       "      <td>-0.369774</td>\n",
       "      <td>-0.253659</td>\n",
       "      <td>-0.047614</td>\n",
       "      <td>-0.408551</td>\n",
       "    </tr>\n",
       "  </tbody>\n",
       "</table>\n",
       "<p>5 rows × 710 columns</p>\n",
       "</div>"
      ],
      "text/plain": [
       "        id    gaze_0_x   gaze_0_y   gaze_0_z   gaze_1_x   gaze_1_y   gaze_1_z  \\\n",
       "0 -1.603384  -1.271694  -0.889513  -1.405812  -1.378494  -0.779758  -0.586249   \n",
       "1 -1.603384  -1.301956  -0.914407  -1.418809  -1.409756  -0.805934  -0.575568   \n",
       "2 -1.603384  -1.287417  -0.928468  -1.417141  -1.421630  -0.819177  -0.572177   \n",
       "3 -1.603384  -1.279507  -0.938124  -1.416508  -1.411197  -0.836961  -0.582824   \n",
       "4 -1.603384  -1.267727  -0.922966  -1.410556  -1.404681  -0.810925  -0.579806   \n",
       "\n",
       "    gaze_angle_x   gaze_angle_y   eye_lmk_x_0  ...    AU12_c    AU14_c  \\\n",
       "0      -1.318922      -0.849503      1.416222  ... -0.128219 -0.688898   \n",
       "1      -1.341865      -0.878817      1.435432  ... -0.128219 -0.688898   \n",
       "2      -1.341865      -0.888589      1.439274  ... -0.128219 -0.688898   \n",
       "3      -1.334217      -0.898360      1.439274  ... -0.128219 -0.688898   \n",
       "4      -1.326570      -0.878817      1.431590  ... -0.128219 -0.688898   \n",
       "\n",
       "     AU15_c   AU17_c    AU20_c    AU23_c    AU25_c    AU26_c    AU28_c  \\\n",
       "0 -0.338595 -0.50349 -0.277895 -0.773873 -0.369774 -0.253659 -0.047614   \n",
       "1 -0.338595 -0.50349 -0.277895 -0.773873 -0.369774 -0.253659 -0.047614   \n",
       "2 -0.338595 -0.50349 -0.277895 -0.773873 -0.369774 -0.253659 -0.047614   \n",
       "3 -0.338595 -0.50349 -0.277895 -0.773873 -0.369774 -0.253659 -0.047614   \n",
       "4 -0.338595 -0.50349 -0.277895 -0.773873 -0.369774 -0.253659 -0.047614   \n",
       "\n",
       "     AU45_c  \n",
       "0 -0.408551  \n",
       "1 -0.408551  \n",
       "2 -0.408551  \n",
       "3 -0.408551  \n",
       "4 -0.408551  \n",
       "\n",
       "[5 rows x 710 columns]"
      ]
     },
     "execution_count": 12,
     "metadata": {},
     "output_type": "execute_result"
    }
   ],
   "source": [
    "df_feat = pd.DataFrame(scaled_features,columns=df.columns[:-1])\n",
    "df_feat.head()"
   ]
  },
  {
   "cell_type": "markdown",
   "id": "519a7ac6",
   "metadata": {},
   "source": [
    "## Train Test dataset split"
   ]
  },
  {
   "cell_type": "code",
   "execution_count": 34,
   "id": "6633f1c5",
   "metadata": {},
   "outputs": [],
   "source": [
    "from sklearn.model_selection import train_test_split"
   ]
  },
  {
   "cell_type": "code",
   "execution_count": 35,
   "id": "9facb67e",
   "metadata": {},
   "outputs": [],
   "source": [
    "#splitting del dataset in parte destinata al training e parte destinata al test (x_train sono le feature per il\n",
    "# training e y_train sono le lables per il training e viceversa x_test sono le feature per il test e y_test le\n",
    "# lables per il test)\n",
    "\n",
    "x_train, x_test, y_train, y_test = train_test_split(scaled_features,df['QoE'],test_size=0.60)"
   ]
  },
  {
   "cell_type": "markdown",
   "id": "a8f0c067",
   "metadata": {},
   "source": [
    "## KNN"
   ]
  },
  {
   "cell_type": "code",
   "execution_count": 36,
   "id": "19360c0f",
   "metadata": {},
   "outputs": [],
   "source": [
    "from sklearn.neighbors import KNeighborsClassifier"
   ]
  },
  {
   "cell_type": "code",
   "execution_count": 37,
   "id": "45e18556",
   "metadata": {},
   "outputs": [],
   "source": [
    "knn = KNeighborsClassifier(n_neighbors=5)"
   ]
  },
  {
   "cell_type": "code",
   "execution_count": 38,
   "id": "e286f836",
   "metadata": {},
   "outputs": [
    {
     "data": {
      "text/plain": [
       "KNeighborsClassifier()"
      ]
     },
     "execution_count": 38,
     "metadata": {},
     "output_type": "execute_result"
    }
   ],
   "source": [
    "#training del modello con fit\n",
    "\n",
    "knn.fit(x_train,y_train)"
   ]
  },
  {
   "cell_type": "code",
   "execution_count": 45,
   "id": "d13a10d7",
   "metadata": {},
   "outputs": [],
   "source": [
    "#test di predizione del modello con predict\n",
    "\n",
    "pred = knn.predict(x_test)"
   ]
  },
  {
   "cell_type": "code",
   "execution_count": 46,
   "id": "52f14623",
   "metadata": {},
   "outputs": [
    {
     "data": {
      "text/plain": [
       "array([2, 3, 3, ..., 3, 3, 3])"
      ]
     },
     "execution_count": 46,
     "metadata": {},
     "output_type": "execute_result"
    }
   ],
   "source": [
    "pred"
   ]
  },
  {
   "cell_type": "markdown",
   "id": "473aa10e",
   "metadata": {},
   "source": [
    "## Predictions and evaluations"
   ]
  },
  {
   "cell_type": "code",
   "execution_count": 47,
   "id": "432d424f",
   "metadata": {},
   "outputs": [],
   "source": [
    "from sklearn.metrics import classification_report,confusion_matrix,accuracy_score"
   ]
  },
  {
   "cell_type": "code",
   "execution_count": 48,
   "id": "2617b2a0",
   "metadata": {
    "scrolled": true
   },
   "outputs": [
    {
     "name": "stdout",
     "output_type": "stream",
     "text": [
      "[[ 2957    21     0     0     0]\n",
      " [   32  9213    42    11     2]\n",
      " [    2    48 16626    52    11]\n",
      " [    0    15    74  7599     0]\n",
      " [    0     1    12     0  3866]]\n"
     ]
    }
   ],
   "source": [
    "print(confusion_matrix(y_test,pred))\n",
    "\n",
    "#confusion matrix: matrice che ha come indici di colonne i valori reali obiettivo di studio (actual values) e\n",
    "# come indici di riga i valori predetti. La diagonale presenta il numero dei valori che sono stati correttamen-\n",
    "# te indovinati (TP - True Positive) mentre sopra la diagonale sono presenti i valori falsi positivi (FP) (cioè\n",
    "# quelli che sono stati dichiarati di quel valore ma che in realtà non lo erano) e sotto i falsi negativi (FN)\n",
    "# (cioè quelli che non stati dichiarati come dovevano)."
   ]
  },
  {
   "cell_type": "code",
   "execution_count": 49,
   "id": "c6e5ae10",
   "metadata": {},
   "outputs": [
    {
     "name": "stdout",
     "output_type": "stream",
     "text": [
      "              precision    recall  f1-score   support\n",
      "\n",
      "           1       0.99      0.99      0.99      2978\n",
      "           2       0.99      0.99      0.99      9300\n",
      "           3       0.99      0.99      0.99     16739\n",
      "           4       0.99      0.99      0.99      7688\n",
      "           5       1.00      1.00      1.00      3879\n",
      "\n",
      "    accuracy                           0.99     40584\n",
      "   macro avg       0.99      0.99      0.99     40584\n",
      "weighted avg       0.99      0.99      0.99     40584\n",
      "\n"
     ]
    }
   ],
   "source": [
    "print(classification_report(y_test,pred))\n",
    "\n",
    "#RECALL: tasso di true positive (es: di tutti gli 1 che c'erano (TP: quelli indovinati + FN: quelli che sono\n",
    "# stati dichiarati essere qualcos'altro), quanti ne sono stati indovinati correttamente?\n",
    "# TP/(TP+FN) cioè della matrice sopra 2944/(2944+31+1+3))\n",
    "\n",
    "#PRECISION: di tutti i valori che sono stati dichiarati essere 1 (TP + FP), quanti erano effettivamente 1?\n",
    "# TP/(TP/FP)\n",
    "\n",
    "#FBeta-Score: (1+Beta^2)*(Precision*Recall) / Beta^2*Precision+Recall\n",
    "# scegliere il Beta in base alle necessità; in questo caso Beta=1 va bene per considerare allo stesso modo\n",
    "# falsi positivi e falsi negativi; nel caso in cui si dovesse avere un problema in cui i falsi positivi sono\n",
    "# più importanti allora si riduce il valore di Beta (tipicamente 0,5 o un altro valore tra 0 e 1), se invece\n",
    "# i falsi negativi sono da considerare maggiormente allora alzo il valore di Beta (per esempio mettendo 2)"
   ]
  },
  {
   "cell_type": "code",
   "execution_count": 50,
   "id": "9bdb7ad6",
   "metadata": {},
   "outputs": [
    {
     "name": "stdout",
     "output_type": "stream",
     "text": [
      "0.9920411985018727\n"
     ]
    }
   ],
   "source": [
    "#ACCURACY: TP / TP+FP+FN\n",
    "\n",
    "print(accuracy_score(y_test,pred))"
   ]
  },
  {
   "cell_type": "code",
   "execution_count": null,
   "id": "e6b7af54",
   "metadata": {},
   "outputs": [],
   "source": []
  }
 ],
 "metadata": {
  "kernelspec": {
   "display_name": "Python 3",
   "language": "python",
   "name": "python3"
  },
  "language_info": {
   "codemirror_mode": {
    "name": "ipython",
    "version": 3
   },
   "file_extension": ".py",
   "mimetype": "text/x-python",
   "name": "python",
   "nbconvert_exporter": "python",
   "pygments_lexer": "ipython3",
   "version": "3.8.8"
  }
 },
 "nbformat": 4,
 "nbformat_minor": 5
}
